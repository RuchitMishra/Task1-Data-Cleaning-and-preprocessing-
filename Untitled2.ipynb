{
  "nbformat": 4,
  "nbformat_minor": 0,
  "metadata": {
    "colab": {
      "provenance": [],
      "authorship_tag": "ABX9TyPTJoS8iqZTpN+9DM1YyQXg",
      "include_colab_link": true
    },
    "kernelspec": {
      "name": "python3",
      "display_name": "Python 3"
    },
    "language_info": {
      "name": "python"
    }
  },
  "cells": [
    {
      "cell_type": "markdown",
      "metadata": {
        "id": "view-in-github",
        "colab_type": "text"
      },
      "source": [
        "<a href=\"https://colab.research.google.com/github/RuchitMishra/Task1-Data-Cleaning-and-preprocessing-/blob/main/Untitled2.ipynb\" target=\"_parent\"><img src=\"https://colab.research.google.com/assets/colab-badge.svg\" alt=\"Open In Colab\"/></a>"
      ]
    },
    {
      "cell_type": "code",
      "execution_count": 3,
      "metadata": {
        "colab": {
          "base_uri": "https://localhost:8080/"
        },
        "id": "uxPOW-WeE5t_",
        "outputId": "824c8acf-b6db-4321-dabe-5a26c1ac7bea"
      },
      "outputs": [
        {
          "output_type": "stream",
          "name": "stdout",
          "text": [
            "   PassengerId  Survived  Pclass  \\\n",
            "0            1         0       3   \n",
            "1            2         1       1   \n",
            "2            3         1       3   \n",
            "3            4         1       1   \n",
            "4            5         0       3   \n",
            "\n",
            "                                                Name     Sex   Age  SibSp  \\\n",
            "0                            Braund, Mr. Owen Harris    male  22.0      1   \n",
            "1  Cumings, Mrs. John Bradley (Florence Briggs Th...  female  38.0      1   \n",
            "2                             Heikkinen, Miss. Laina  female  26.0      0   \n",
            "3       Futrelle, Mrs. Jacques Heath (Lily May Peel)  female  35.0      1   \n",
            "4                           Allen, Mr. William Henry    male  35.0      0   \n",
            "\n",
            "   Parch            Ticket     Fare Cabin Embarked  \n",
            "0      0         A/5 21171   7.2500   NaN        S  \n",
            "1      0          PC 17599  71.2833   C85        C  \n",
            "2      0  STON/O2. 3101282   7.9250   NaN        S  \n",
            "3      0            113803  53.1000  C123        S  \n",
            "4      0            373450   8.0500   NaN        S  \n"
          ]
        }
      ],
      "source": [
        "#import all required libraries\n",
        "\n",
        "import numpy as np\n",
        "import matplotlib.pyplot as plt\n",
        "import seaborn as sns\n",
        "import pandas as pd\n",
        "\n",
        "df = pd.read_csv('Titanic-Dataset.csv')\n",
        "print(df.head())"
      ]
    },
    {
      "cell_type": "code",
      "source": [
        "print(df.isnull().sum())"
      ],
      "metadata": {
        "colab": {
          "base_uri": "https://localhost:8080/"
        },
        "id": "_cjuhD7EGIOQ",
        "outputId": "d880cda1-5553-4bfa-c89a-8d65e34bceab"
      },
      "execution_count": 4,
      "outputs": [
        {
          "output_type": "stream",
          "name": "stdout",
          "text": [
            "PassengerId      0\n",
            "Survived         0\n",
            "Pclass           0\n",
            "Name             0\n",
            "Sex              0\n",
            "Age            177\n",
            "SibSp            0\n",
            "Parch            0\n",
            "Ticket           0\n",
            "Fare             0\n",
            "Cabin          687\n",
            "Embarked         2\n",
            "dtype: int64\n"
          ]
        }
      ]
    },
    {
      "cell_type": "code",
      "source": [
        "df['Age'] = df['Age'].fillna(df['Age'].median())\n",
        "\n",
        "print(df.isnull().sum())\n"
      ],
      "metadata": {
        "colab": {
          "base_uri": "https://localhost:8080/"
        },
        "id": "_7Ht2s--GWwx",
        "outputId": "982ab6a5-bfa2-44c5-feba-b16209ac76ec"
      },
      "execution_count": 23,
      "outputs": [
        {
          "output_type": "stream",
          "name": "stdout",
          "text": [
            "PassengerId    0\n",
            "Survived       0\n",
            "Pclass         0\n",
            "Name           0\n",
            "Sex            0\n",
            "Age            0\n",
            "SibSp          0\n",
            "Parch          0\n",
            "Ticket         0\n",
            "Fare           0\n",
            "Embarked       0\n",
            "dtype: int64\n"
          ]
        }
      ]
    },
    {
      "cell_type": "code",
      "source": [
        "# mode is used to get the highet frequency term.\n",
        "mode = df['Embarked'].mode()[0]\n",
        "df['Embarked'] = df['Embarked'].fillna(mode)\n",
        "\n",
        "#since the Cabin column is not of high importance for us , as we are creating record of the people who died in titanic accident.\n",
        "\n",
        "print(df.isnull().sum())\n",
        "\n",
        "\n"
      ],
      "metadata": {
        "colab": {
          "base_uri": "https://localhost:8080/"
        },
        "id": "1DGaxeHUHkU1",
        "outputId": "8aaa5c89-8b2a-48b5-e9db-da10626824bc"
      },
      "execution_count": 24,
      "outputs": [
        {
          "output_type": "stream",
          "name": "stdout",
          "text": [
            "PassengerId    0\n",
            "Survived       0\n",
            "Pclass         0\n",
            "Name           0\n",
            "Sex            0\n",
            "Age            0\n",
            "SibSp          0\n",
            "Parch          0\n",
            "Ticket         0\n",
            "Fare           0\n",
            "Embarked       0\n",
            "dtype: int64\n"
          ]
        }
      ]
    },
    {
      "cell_type": "code",
      "source": [
        "print(df.dtypes)"
      ],
      "metadata": {
        "colab": {
          "base_uri": "https://localhost:8080/"
        },
        "id": "bHlR81qKHVWI",
        "outputId": "a4e3c5fb-f707-4665-ddf7-a68046cf2535"
      },
      "execution_count": 8,
      "outputs": [
        {
          "output_type": "stream",
          "name": "stdout",
          "text": [
            "PassengerId      int64\n",
            "Survived         int64\n",
            "Pclass           int64\n",
            "Name            object\n",
            "Sex             object\n",
            "Age            float64\n",
            "SibSp            int64\n",
            "Parch            int64\n",
            "Ticket          object\n",
            "Fare           float64\n",
            "Cabin           object\n",
            "Embarked        object\n",
            "dtype: object\n"
          ]
        }
      ]
    },
    {
      "cell_type": "code",
      "source": [
        "# Converting Categorical Column into Numerical Column\n",
        "\n",
        "from sklearn.preprocessing import LabelEncoder\n",
        "\n",
        "le = LabelEncoder()\n",
        "df['Sex'] = le.fit_transform(df['Sex'])\n",
        "df['Embarked'] = le.fit_transform(df['Embarked'])\n",
        "print(df)\n",
        "\n",
        "\n"
      ],
      "metadata": {
        "colab": {
          "base_uri": "https://localhost:8080/"
        },
        "id": "8it-TuFKupz5",
        "outputId": "9c29c255-fa82-4d3c-89a2-2a16243bc3d2"
      },
      "execution_count": 35,
      "outputs": [
        {
          "output_type": "stream",
          "name": "stdout",
          "text": [
            "     PassengerId  Survived  Pclass  \\\n",
            "0              1         0       3   \n",
            "1              2         1       1   \n",
            "2              3         1       3   \n",
            "3              4         1       1   \n",
            "4              5         0       3   \n",
            "..           ...       ...     ...   \n",
            "886          887         0       2   \n",
            "887          888         1       1   \n",
            "888          889         0       3   \n",
            "889          890         1       1   \n",
            "890          891         0       3   \n",
            "\n",
            "                                                  Name  Sex   Age  SibSp  \\\n",
            "0                              Braund, Mr. Owen Harris    1  22.0      1   \n",
            "1    Cumings, Mrs. John Bradley (Florence Briggs Th...    0  38.0      1   \n",
            "2                               Heikkinen, Miss. Laina    0  26.0      0   \n",
            "3         Futrelle, Mrs. Jacques Heath (Lily May Peel)    0  35.0      1   \n",
            "4                             Allen, Mr. William Henry    1  35.0      0   \n",
            "..                                                 ...  ...   ...    ...   \n",
            "886                              Montvila, Rev. Juozas    1  27.0      0   \n",
            "887                       Graham, Miss. Margaret Edith    0  19.0      0   \n",
            "888           Johnston, Miss. Catherine Helen \"Carrie\"    0  28.0      1   \n",
            "889                              Behr, Mr. Karl Howell    1  26.0      0   \n",
            "890                                Dooley, Mr. Patrick    1  32.0      0   \n",
            "\n",
            "     Parch            Ticket     Fare  Embarked  \n",
            "0        0         A/5 21171   7.2500         2  \n",
            "1        0          PC 17599  71.2833         0  \n",
            "2        0  STON/O2. 3101282   7.9250         2  \n",
            "3        0            113803  53.1000         2  \n",
            "4        0            373450   8.0500         2  \n",
            "..     ...               ...      ...       ...  \n",
            "886      0            211536  13.0000         2  \n",
            "887      0            112053  30.0000         2  \n",
            "888      2        W./C. 6607  23.4500         2  \n",
            "889      0            111369  30.0000         0  \n",
            "890      0            370376   7.7500         1  \n",
            "\n",
            "[891 rows x 11 columns]\n"
          ]
        }
      ]
    },
    {
      "cell_type": "code",
      "source": [
        "print(df.dtypes)"
      ],
      "metadata": {
        "colab": {
          "base_uri": "https://localhost:8080/"
        },
        "id": "RJL6CVAZ2frq",
        "outputId": "17c6780d-e0e5-4366-a2be-5d6800da4e8d"
      },
      "execution_count": 36,
      "outputs": [
        {
          "output_type": "stream",
          "name": "stdout",
          "text": [
            "PassengerId      int64\n",
            "Survived         int64\n",
            "Pclass           int64\n",
            "Name            object\n",
            "Sex              int64\n",
            "Age            float64\n",
            "SibSp            int64\n",
            "Parch            int64\n",
            "Ticket          object\n",
            "Fare           float64\n",
            "Embarked         int64\n",
            "dtype: object\n"
          ]
        }
      ]
    },
    {
      "cell_type": "code",
      "source": [
        "#normailze/standarize the numerical data\n",
        "from sklearn.preprocessing import StandardScaler\n",
        "\n",
        "scaler = StandardScaler()\n",
        "scaled_data = scaler.fit_transform(df[['Age', 'Fare']])\n",
        "df[['Age', 'Fare']] = scaled_data\n",
        "#df[['Age', 'Fare']] = scaler.fit_transform(df[['Age', 'Fare']])\n",
        "print(df)"
      ],
      "metadata": {
        "colab": {
          "base_uri": "https://localhost:8080/"
        },
        "id": "bPqelyoy3LO6",
        "outputId": "438e4da8-f937-46a2-d77a-16205202d829"
      },
      "execution_count": 38,
      "outputs": [
        {
          "output_type": "stream",
          "name": "stdout",
          "text": [
            "     PassengerId  Survived  Pclass  \\\n",
            "0              1         0       3   \n",
            "1              2         1       1   \n",
            "2              3         1       3   \n",
            "3              4         1       1   \n",
            "4              5         0       3   \n",
            "..           ...       ...     ...   \n",
            "886          887         0       2   \n",
            "887          888         1       1   \n",
            "888          889         0       3   \n",
            "889          890         1       1   \n",
            "890          891         0       3   \n",
            "\n",
            "                                                  Name  Sex       Age  SibSp  \\\n",
            "0                              Braund, Mr. Owen Harris    1 -0.565736      1   \n",
            "1    Cumings, Mrs. John Bradley (Florence Briggs Th...    0  0.663861      1   \n",
            "2                               Heikkinen, Miss. Laina    0 -0.258337      0   \n",
            "3         Futrelle, Mrs. Jacques Heath (Lily May Peel)    0  0.433312      1   \n",
            "4                             Allen, Mr. William Henry    1  0.433312      0   \n",
            "..                                                 ...  ...       ...    ...   \n",
            "886                              Montvila, Rev. Juozas    1 -0.181487      0   \n",
            "887                       Graham, Miss. Margaret Edith    0 -0.796286      0   \n",
            "888           Johnston, Miss. Catherine Helen \"Carrie\"    0 -0.104637      1   \n",
            "889                              Behr, Mr. Karl Howell    1 -0.258337      0   \n",
            "890                                Dooley, Mr. Patrick    1  0.202762      0   \n",
            "\n",
            "     Parch            Ticket      Fare  Embarked  \n",
            "0        0         A/5 21171 -0.502445         2  \n",
            "1        0          PC 17599  0.786845         0  \n",
            "2        0  STON/O2. 3101282 -0.488854         2  \n",
            "3        0            113803  0.420730         2  \n",
            "4        0            373450 -0.486337         2  \n",
            "..     ...               ...       ...       ...  \n",
            "886      0            211536 -0.386671         2  \n",
            "887      0            112053 -0.044381         2  \n",
            "888      2        W./C. 6607 -0.176263         2  \n",
            "889      0            111369 -0.044381         0  \n",
            "890      0            370376 -0.492378         1  \n",
            "\n",
            "[891 rows x 11 columns]\n"
          ]
        }
      ]
    },
    {
      "cell_type": "code",
      "source": [
        "#5.Visualize outliers using boxplots and remove them\n",
        "\n",
        "\n",
        "plt.figure(figsize = (10,6))\n",
        "sns.boxplot(x = df['Age'])\n",
        "plt.title(\"Box plot of Age\")\n",
        "plt.show()\n",
        "\n",
        "plt.figure(figsize = (10,6))\n",
        "sns.boxplot(x = df['Fare'])\n",
        "plt.title(\"Box plot of Fare\")\n",
        "plt.show()"
      ],
      "metadata": {
        "colab": {
          "base_uri": "https://localhost:8080/",
          "height": 1000
        },
        "id": "XL2UsQUa5-hC",
        "outputId": "646574ac-a4df-4a83-9f5b-20f5dfe63e2f"
      },
      "execution_count": 39,
      "outputs": [
        {
          "output_type": "display_data",
          "data": {
            "text/plain": [
              "<Figure size 1000x600 with 1 Axes>"
            ],
            "image/png": "[encoded data removed]"
          },
          "metadata": {}
        },
        {
          "output_type": "display_data",
          "data": {
            "text/plain": [
              "<Figure size 1000x600 with 1 Axes>"
            ],
            "image/png": "[encoded data removed]"
          },
          "metadata": {}
        }
      ]
    }
  ]
}